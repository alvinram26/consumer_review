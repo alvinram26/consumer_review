{
  "cells": [
    {
      "cell_type": "code",
      "execution_count": null,
      "metadata": {
        "id": "0wut3dHbFViR"
      },
      "outputs": [],
      "source": [
        "import matplotlib.pyplot as plt\n",
        "import seaborn as sns\n",
        "import gensim\n",
        "import nltk\n",
        "from wordcloud import WordCloud,STOPWORDS\n",
        "from collections import Counter\n",
        "from nltk.corpus import stopwords\n",
        "from sklearn.feature_extraction.text import CountVectorizer\n",
        "from sklearn.decomposition import LatentDirichletAllocation"
      ]
    },
    {
      "cell_type": "code",
      "execution_count": null,
      "metadata": {
        "colab": {
          "base_uri": "https://localhost:8080/"
        },
        "id": "0q5jY4TQIK13",
        "outputId": "acf0623b-de4e-459b-fda1-516a4193673f"
      },
      "outputs": [],
      "source": [
        "#Mount Google Drive\n",
        "from google.colab import drive\n",
        "drive.mount(\"/content/drive\")"
      ]
    },
    {
      "cell_type": "code",
      "execution_count": null,
      "metadata": {
        "colab": {
          "base_uri": "https://localhost:8080/"
        },
        "id": "6jE9sHc9IWq5",
        "outputId": "2f3b13c1-4221-4a85-ad2d-04e4672099e4"
      },
      "outputs": [],
      "source": [
        "#Import file Pandas\n",
        "import pandas as pd\n",
        "\n",
        "#Read file CSV dari google drive\n",
        "df_dataset_clothing = pd.read_csv(\"/content/drive/MyDrive/datvisalvin/data_amazon.xlsx - Sheet1.csv\")\n",
        "\n",
        "#Menampilkan dataframe hasil read csv\n",
        "print(df_dataset_clothing)"
      ]
    },
    {
      "cell_type": "code",
      "execution_count": null,
      "metadata": {
        "colab": {
          "base_uri": "https://localhost:8080/"
        },
        "id": "te-TwuZ9NP5Y",
        "outputId": "2defe8b3-d6ef-4439-dd26-e039bab86f60"
      },
      "outputs": [],
      "source": [
        "from google.colab import drive\n",
        "drive.mount('/content/drive')"
      ]
    },
    {
      "cell_type": "code",
      "execution_count": null,
      "metadata": {
        "id": "7sumE-ToJF9b"
      },
      "outputs": [],
      "source": [
        "df_dataset_clothing = df_dataset_clothing.dropna()"
      ]
    },
    {
      "cell_type": "code",
      "execution_count": null,
      "metadata": {
        "colab": {
          "base_uri": "https://localhost:8080/"
        },
        "id": "YFCsgG-_JrHA",
        "outputId": "49021c83-02f0-4e07-9b14-1273dad65cb5"
      },
      "outputs": [],
      "source": [
        "print(df_dataset_clothing.info())"
      ]
    },
    {
      "cell_type": "code",
      "execution_count": null,
      "metadata": {
        "id": "gJG_0R0AKMFc"
      },
      "outputs": [],
      "source": [
        "df_dataset_clothing.to_csv(\"/content/drive/MyDrive/datvisalvin/hasil_sortir_data_amazon.xlsx - Sheet1.csv\")"
      ]
    },
    {
      "cell_type": "code",
      "execution_count": null,
      "metadata": {
        "colab": {
          "base_uri": "https://localhost:8080/",
          "height": 1000
        },
        "id": "RZUpC5TrKVfu",
        "outputId": "11a60780-0e21-4dea-8cae-e8cceb24a5e7"
      },
      "outputs": [],
      "source": [
        "#Untuk melihat distribusi rating untuk semua jenis pakaian\n",
        "clothing_counts = df_dataset_clothing['Cloth_class'].value_counts()\n",
        "\n",
        "print(clothing_counts)\n",
        "\n",
        "plt.figure(figsize=(10, 6))\n",
        "sns.barplot(x=clothing_counts.index, y=clothing_counts.values, alpha=0.8)\n",
        "plt.title('Close class distribution')\n",
        "plt.ylabel('Count', fontsize=12)\n",
        "plt.xlabel('Class', fontsize=12)\n",
        "plt.xticks(rotation=90)\n",
        "plt.show()"
      ]
    },
    {
      "cell_type": "code",
      "execution_count": null,
      "metadata": {
        "colab": {
          "base_uri": "https://localhost:8080/",
          "height": 1000
        },
        "id": "guHFajv7KskC",
        "outputId": "dbd19589-b829-494e-f265-ec5eef875431"
      },
      "outputs": [],
      "source": [
        "#digunakan untuk menampilkan distribusi penilaian untuk beberapa jenis pakaian populer (Dresses, Blouses, Knits) menggunakan plot histogram dengan seaborn.\n",
        "selected_data = df_dataset_clothing[df_dataset_clothing['Cloth_class'].isin(['Dresses', 'Blouses', 'Knits'])]\n",
        "\n",
        "for cloth_type in ['Dresses', 'Blouses', 'Knits']:\n",
        "    plt.figure(figsize=(10, 6))\n",
        "    sns.histplot(data=selected_data[selected_data['Cloth_class'] == cloth_type], x='Cons_rating', kde=True)\n",
        "    plt.title(f'Rating distribution {cloth_type}')\n",
        "    plt.show()\n"
      ]
    },
    {
      "cell_type": "code",
      "execution_count": null,
      "metadata": {
        "colab": {
          "base_uri": "https://localhost:8080/",
          "height": 564
        },
        "id": "frW90VErK0MV",
        "outputId": "c8b01094-a165-4f9a-ca95-77989eac759e"
      },
      "outputs": [],
      "source": [
        "#digunakan untuk membuat plot histogram dari kolom 'Cons_rating' pada dataframe df_dataset_clothing\n",
        "plt.figure(figsize=(10, 6))\n",
        "sns.histplot(data=df_dataset_clothing, x='Cons_rating', kde=True)\n",
        "plt.title('Rating distribution')\n",
        "plt.show()"
      ]
    },
    {
      "cell_type": "code",
      "execution_count": null,
      "metadata": {
        "colab": {
          "base_uri": "https://localhost:8080/",
          "height": 653
        },
        "id": "6rIXabirgw7d",
        "outputId": "239cf545-ed2f-46af-b6a0-7359615b3f41"
      },
      "outputs": [],
      "source": [
        "word_could_dict = Counter(df_dataset_clothing['Cloth_class'].tolist())\n",
        "wordcloud = WordCloud(width = 1000, height = 800).generate_from_frequencies(word_could_dict)\n",
        "\n",
        "plt.figure(figsize=(16,8))\n",
        "plt.imshow(wordcloud)\n",
        "plt.axis(\"off\")\n",
        "plt.show()"
      ]
    }
  ],
  "metadata": {
    "colab": {
      "provenance": []
    },
    "kernelspec": {
      "display_name": "Python 3",
      "name": "python3"
    },
    "language_info": {
      "name": "python",
      "version": "3.11.0"
    }
  },
  "nbformat": 4,
  "nbformat_minor": 0
}
